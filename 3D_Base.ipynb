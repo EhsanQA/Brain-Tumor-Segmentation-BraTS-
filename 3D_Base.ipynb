{
 "cells": [
  {
   "cell_type": "code",
   "execution_count": 1,
   "metadata": {
    "id": "PF1vf4x3IQOc"
   },
   "outputs": [],
   "source": [
    "import nibabel as nib\n",
    "import os\n",
    "import numpy as np"
   ]
  },
  {
   "cell_type": "markdown",
   "metadata": {
    "id": "YzRW1gXVIMEi",
    "tags": []
   },
   "source": [
    "U-Net 3D"
   ]
  },
  {
   "cell_type": "code",
   "execution_count": 2,
   "metadata": {
    "id": "stWoDWI4CEcG"
   },
   "outputs": [],
   "source": [
    "import torch\n",
    "import torch.nn as nn\n",
    "import torch.nn.functional as F"
   ]
  },
  {
   "cell_type": "code",
   "execution_count": 3,
   "metadata": {},
   "outputs": [],
   "source": [
    "class Conv3DBlock(nn.Module):\n",
    "    \"\"\"\n",
    "    The basic block for double 3x3x3 convolutions in the analysis path\n",
    "    -- __init__()\n",
    "    :param in_channels -> number of input channels\n",
    "    :param out_channels -> desired number of output channels\n",
    "    :param bottleneck -> specifies the bottlneck block\n",
    "    -- forward()\n",
    "    :param input -> input Tensor to be convolved\n",
    "    :return -> Tensor\n",
    "    \"\"\"\n",
    "\n",
    "    def __init__(self, in_channels, out_channels, bottleneck = False) -> None:\n",
    "        super(Conv3DBlock, self).__init__()\n",
    "        self.conv1 = nn.Conv3d(in_channels= in_channels, out_channels=out_channels//2, kernel_size=(3,3,3), padding=1)\n",
    "        self.bn1 = nn.BatchNorm3d(num_features=out_channels//2)\n",
    "        self.conv2 = nn.Conv3d(in_channels= out_channels//2, out_channels=out_channels, kernel_size=(3,3,3), padding=1)\n",
    "        self.bn2 = nn.BatchNorm3d(num_features=out_channels)\n",
    "        self.relu = nn.ReLU()\n",
    "        self.bottleneck = bottleneck\n",
    "        if not bottleneck:\n",
    "            self.pooling = nn.MaxPool3d(kernel_size=(2,2,2), stride=2)\n",
    "\n",
    "    \n",
    "    def forward(self, input):\n",
    "        res = self.relu(self.bn1(self.conv1(input)))\n",
    "        res = self.relu(self.bn2(self.conv2(res)))\n",
    "        out = None\n",
    "        if not self.bottleneck:\n",
    "            out = self.pooling(res)\n",
    "        else:\n",
    "            out = res\n",
    "        return out, res\n"
   ]
  },
  {
   "cell_type": "code",
   "execution_count": 4,
   "metadata": {},
   "outputs": [],
   "source": [
    "class UpConv3DBlock(nn.Module):\n",
    "    \"\"\"\n",
    "    The basic block for upsampling followed by double 3x3x3 convolutions in the synthesis path\n",
    "    -- __init__()\n",
    "    :param in_channels -> number of input channels\n",
    "    :param out_channels -> number of residual connections' channels to be concatenated\n",
    "    :param last_layer -> specifies the last output layer\n",
    "    :param num_classes -> specifies the number of output channels for dispirate classes\n",
    "    -- forward()\n",
    "    :param input -> input Tensor\n",
    "    :param residual -> residual connection to be concatenated with input\n",
    "    :return -> Tensor\n",
    "    \"\"\"\n",
    "\n",
    "    def __init__(self, in_channels, res_channels=0, last_layer=False, num_classes=None) -> None:\n",
    "        super(UpConv3DBlock, self).__init__()\n",
    "        assert (last_layer==False and num_classes==None) or (last_layer==True and num_classes!=None), 'Invalid arguments'\n",
    "        self.upconv1 = nn.ConvTranspose3d(in_channels=in_channels, out_channels=in_channels, kernel_size=(2, 2, 2), stride=2)\n",
    "        self.relu = nn.ReLU()\n",
    "        self.bn = nn.BatchNorm3d(num_features=in_channels//2)\n",
    "        self.conv1 = nn.Conv3d(in_channels=in_channels+res_channels, out_channels=in_channels//2, kernel_size=(3,3,3), padding=(1,1,1))\n",
    "        self.conv2 = nn.Conv3d(in_channels=in_channels//2, out_channels=in_channels//2, kernel_size=(3,3,3), padding=(1,1,1))\n",
    "        self.last_layer = last_layer\n",
    "        if last_layer:\n",
    "            self.conv3 = nn.Conv3d(in_channels=in_channels//2, out_channels=num_classes, kernel_size=(1,1,1))\n",
    "            \n",
    "        \n",
    "    def forward(self, input, residual=None):\n",
    "        out = self.upconv1(input)\n",
    "        if residual!=None: out = torch.cat((out, residual), 1)\n",
    "        out = self.relu(self.bn(self.conv1(out)))\n",
    "        out = self.relu(self.bn(self.conv2(out)))\n",
    "        if self.last_layer: out = self.conv3(out)\n",
    "        return out\n"
   ]
  },
  {
   "cell_type": "code",
   "execution_count": 5,
   "metadata": {},
   "outputs": [],
   "source": [
    "class UNet3D(nn.Module):\n",
    "    \"\"\"\n",
    "    The 3D UNet model\n",
    "    -- __init__()\n",
    "    :param in_channels -> number of input channels\n",
    "    :param num_classes -> specifies the number of output channels or masks for different classes\n",
    "    :param level_channels -> the number of channels at each level (count top-down)\n",
    "    :param bottleneck_channel -> the number of bottleneck channels \n",
    "    :param device -> the device on which to run the model\n",
    "    -- forward()\n",
    "    :param input -> input Tensor\n",
    "    :return -> Tensor\n",
    "    \"\"\"\n",
    "    \n",
    "    def __init__(self, in_channels, num_classes, level_channels=[64, 128, 256], bottleneck_channel=512) -> None:\n",
    "        super(UNet3D, self).__init__()\n",
    "        level_1_chnls, level_2_chnls, level_3_chnls = level_channels[0], level_channels[1], level_channels[2]\n",
    "        self.a_block1 = Conv3DBlock(in_channels=in_channels, out_channels=level_1_chnls)\n",
    "        self.a_block2 = Conv3DBlock(in_channels=level_1_chnls, out_channels=level_2_chnls)\n",
    "        self.a_block3 = Conv3DBlock(in_channels=level_2_chnls, out_channels=level_3_chnls)\n",
    "        self.bottleNeck = Conv3DBlock(in_channels=level_3_chnls, out_channels=bottleneck_channel, bottleneck= True)\n",
    "        self.s_block3 = UpConv3DBlock(in_channels=bottleneck_channel, res_channels=level_3_chnls)\n",
    "        self.s_block2 = UpConv3DBlock(in_channels=level_3_chnls, res_channels=level_2_chnls)\n",
    "        self.s_block1 = UpConv3DBlock(in_channels=level_2_chnls, res_channels=level_1_chnls, num_classes=num_classes, last_layer=True)\n",
    "\n",
    "    \n",
    "    def forward(self, input):\n",
    "        #Analysis path forward feed\n",
    "        out, residual_level1 = self.a_block1(input)\n",
    "        out, residual_level2 = self.a_block2(out)\n",
    "        out, residual_level3 = self.a_block3(out)\n",
    "        out, _ = self.bottleNeck(out)\n",
    "\n",
    "        #Synthesis path forward feed\n",
    "        out = self.s_block3(out, residual_level3)\n",
    "        out = self.s_block2(out, residual_level2)\n",
    "        out = self.s_block1(out, residual_level1)\n",
    "        return out\n"
   ]
  },
  {
   "cell_type": "markdown",
   "metadata": {
    "id": "Ui2BgSdBpI9g"
   },
   "source": [
    "# Dataset and Data Generator"
   ]
  },
  {
   "cell_type": "code",
   "execution_count": 6,
   "metadata": {
    "id": "twIjPWQqDEBz"
   },
   "outputs": [],
   "source": [
    "from torch.utils.data import Dataset, DataLoader\n",
    "import random\n",
    "import monai\n",
    "from torchvision.transforms import ToTensor\n",
    "from tqdm import tqdm"
   ]
  },
  {
   "cell_type": "code",
   "execution_count": 7,
   "metadata": {
    "id": "5ksYNywcpOEj"
   },
   "outputs": [],
   "source": [
    "class BraTS(Dataset):\n",
    "    def __init__(self, base_folder, img_size=(4,155,240,240), transform=None, shuffle=False) -> None:\n",
    "        super().__init__()\n",
    "        self.base_folder = base_folder\n",
    "        self.names = os.listdir(base_folder)\n",
    "        self.trainNames = []\n",
    "        self.valNames = []\n",
    "        self.size = img_size\n",
    "        self.transform = transform\n",
    "        self.shuffle = shuffle\n",
    "        self.state = None\n",
    "\n",
    "        # Train/Validation split (Train:%80, Val:%20)\n",
    "        IDs = [n.split('BraTS2021_')[-1] for n in self.names]\n",
    "        for id in IDs:\n",
    "            if int(id)%10 >= 8:\n",
    "                self.trainNames.append(f'BraTS2021_{id}')\n",
    "            elif int(id)%10 >= 6:\n",
    "                self.valNames.append(f'BraTS2021_{id}')\n",
    "            else:\n",
    "                self.trainNames.append(f'BraTS2021_{id}')\n",
    "        del IDs\n",
    "\n",
    "    def trainMode(self):\n",
    "        self.state = 'train'\n",
    "\n",
    "    def valMode(self):\n",
    "        self.state = 'val'\n",
    "\n",
    "    def __len__(self):\n",
    "        if self.state == 'train':\n",
    "            return len(self.trainNames)\n",
    "        elif self.state == 'val':\n",
    "            return len(self.valNames)\n",
    "        return len(self.names)\n",
    "\n",
    "    def __getitem__(self, idx):\n",
    "        # Image name\n",
    "        if self.state=='train':\n",
    "            name = self.trainNames[idx]\n",
    "        elif self.state=='val':\n",
    "            name = self.valNames[idx]\n",
    "        name = self.names[idx]\n",
    "\n",
    "        #### Image path\n",
    "        t1_img = os.path.join(self.base_folder, name, f\"{name}_t1.nii.gz\")\n",
    "        t1ce_img = os.path.join(self.base_folder, name, f\"{name}_t1ce.nii.gz\")\n",
    "        t2_img = os.path.join(self.base_folder, name, f\"{name}_t2.nii.gz\")\n",
    "        flair_img = os.path.join(self.base_folder, name, f\"{name}_flair.nii.gz\")\n",
    "        gt = os.path.join(self.base_folder, name, f\"{name}_seg.nii.gz\")\n",
    "\n",
    "        #### Reading and Normalizing Images\n",
    "        t1_img = nib.load(t1_img).get_fdata()\n",
    "        t1_img = (t1_img - t1_img.min()) / (t1_img.max()-t1_img.min())\n",
    "\n",
    "        t1ce_img = nib.load(t1ce_img).get_fdata()\n",
    "        t1ce_img = (t1ce_img - t1ce_img.min()) / (t1ce_img.max()-t1ce_img.min())\n",
    "\n",
    "        t2_img = nib.load(t2_img).get_fdata()\n",
    "        t2_img = (t2_img - t2_img.min()) / (t2_img.max()-t2_img.min())\n",
    "\n",
    "        flair_img = nib.load(flair_img).get_fdata()\n",
    "        flair_img = (flair_img - flair_img.min()) / (flair_img.max()-flair_img.min())\n",
    "\n",
    "        #### Input Image and Ground Truth\n",
    "        img = np.stack([t1_img, t1ce_img, t2_img, flair_img], axis=-1)\n",
    "        # Freeing up memory\n",
    "        del t1_img\n",
    "        del t1ce_img\n",
    "        del t2_img\n",
    "        del flair_img\n",
    "\n",
    "        gt = nib.load(gt).get_fdata()\n",
    "\n",
    "\n",
    "        #### Preprocessings\n",
    "        # Fixing the annotations\n",
    "        BG = np.where(gt==0, 1, 0)\n",
    "        NCR = np.where(gt==1, 1, 0)\n",
    "        ED = np.where(gt==2, 1, 0)\n",
    "        ET = np.where(gt==4, 1, 0)\n",
    "        gt = np.stack([BG, NCR, ED, ET], axis=-1)\n",
    "\n",
    "        # Freeing up memory\n",
    "        del BG\n",
    "        del NCR\n",
    "        del ED\n",
    "        del ET\n",
    "\n",
    "        # Fixing the input shape\n",
    "        img = img.T\n",
    "        gt = gt.T\n",
    "        # [C, D, H, W] -> [D, C, W, H]\n",
    "        img = np.transpose(img, (1, 0, 3, 2))\n",
    "        gt = np.transpose(gt, (1, 0, 3, 2))\n",
    "        \n",
    "        # Shuffling the slices within images\n",
    "        idxs = np.arange(img.shape[0])\n",
    "        if self.shuffle:\n",
    "            np.random.shuffle(idxs)\n",
    "        img = img[idxs, :, :, :]\n",
    "        gt = gt[idxs, :, :, :]\n",
    "        \n",
    "        # Transforming into PyTorch Tensor\n",
    "        img = monai.transforms.ToTensor()(img).float()\n",
    "        gt = monai.transforms.ToTensor()(gt).float()\n",
    "        \n",
    "        return img, gt"
   ]
  },
  {
   "cell_type": "markdown",
   "metadata": {
    "id": "gX4yjaSsQWLp"
   },
   "source": [
    "# Visualization"
   ]
  },
  {
   "cell_type": "code",
   "execution_count": 8,
   "metadata": {
    "id": "lFWrW16QSNUk"
   },
   "outputs": [],
   "source": [
    "classes_dict = {\n",
    "    'Normal': 0.,\n",
    "    'Necrotic Tumor' : 1.,\n",
    "    'Edema': 2.,\n",
    "    'Enhancing Tumor': 4.\n",
    "}"
   ]
  },
  {
   "cell_type": "code",
   "execution_count": 9,
   "metadata": {
    "id": "WBrV6w5kQfOA"
   },
   "outputs": [],
   "source": [
    "import itk\n",
    "import itkwidgets\n",
    "from ipywidgets import interactive, IntSlider, ToggleButtons\n",
    "import seaborn as sns\n",
    "sns.set_style('darkgrid')\n",
    "from matplotlib import pyplot as plt\n",
    "%matplotlib inline"
   ]
  },
  {
   "cell_type": "code",
   "execution_count": 10,
   "metadata": {
    "id": "R4RUhiscQX-H"
   },
   "outputs": [],
   "source": [
    "# Metric Plotter during Training\n",
    "def plotter(train_history, val_history, critical_points, metric, title):\n",
    "    plt.plot(train_history)\n",
    "    plt.plot(val_history)\n",
    "    if len(critical_points)!=0:\n",
    "        for p in critical_points:\n",
    "            plt.axvline(x=p, ymin=0.05, ymax=0.95, color='purple', ls=':', lw=1)\n",
    "    plt.title(title)\n",
    "    plt.ylabel(metric)\n",
    "    plt.xlabel('epoch')\n",
    "    plt.xticks(np.arange(1, max(len(train_history), len(val_history))+1))\n",
    "    plt.legend(['train', 'val', 'lr reduction'], bbox_to_anchor=(1.0, 1), loc='upper left')\n",
    "    plt.show()"
   ]
  },
  {
   "cell_type": "code",
   "execution_count": 11,
   "metadata": {
    "id": "sLp89M6uNNyX"
   },
   "outputs": [],
   "source": [
    "# Name of the images to visualize during training\n",
    "train_visualization = 'BraTS2021_01664'\n",
    "val_visualization = 'BraTS2021_01665'"
   ]
  },
  {
   "cell_type": "code",
   "execution_count": 12,
   "metadata": {
    "id": "4cSGCiX6SQX3"
   },
   "outputs": [],
   "source": [
    "# # Reading sample train/val images\n",
    "# train_img = nib.load(f'./{train_visualization}/{train_visualization}_t1.nii.gz').get_fdata()\n",
    "# train_label = nib.load(f'./{train_visualization}/{train_visualization}_seg.nii.gz').get_fdata()\n",
    "\n",
    "# val_img = nib.load(f'./{val_visualization}/{val_visualization}_t1.nii.gz').get_fdata()\n",
    "# val_label = nib.load(f'./{val_visualization}/{val_visualization}_seg.nii.gz').get_fdata()"
   ]
  },
  {
   "cell_type": "code",
   "execution_count": 13,
   "metadata": {
    "id": "yZvBka_dO7ia"
   },
   "outputs": [],
   "source": [
    "# Utitlity function to visualize 3D data\n",
    "def visualize_img(seg_class, mode, layer=78):\n",
    "    fig, ax = plt.subplots(nrows=1, ncols=2, figsize=(10, 5))\n",
    "    sample_img = train_img if mode=='Train' else val_img\n",
    "    ax[0].imshow(sample_img[:,:,layer], cmap='gray')\n",
    "    ax[0].set_title(\"3D Brain MRI\", family=\"Arial\", fontsize=18)\n",
    "    ax[0].axis('off')\n",
    "\n",
    "    label_name = classes_dict[seg_class]\n",
    "    sample_label = train_label if mode=='Train' else val_label\n",
    "    sample_label = sample_label[:,:,layer]\n",
    "    mask = np.where(sample_label==classes_dict[seg_class], 255, 0)\n",
    "    ax[1].imshow(mask, cmap='gray')\n",
    "    ax[1].set_title(\"Tumor Regions\", family=\"Arial\", fontsize=18)\n",
    "    ax[1].axis('off')\n",
    "    return layer"
   ]
  },
  {
   "cell_type": "code",
   "execution_count": 14,
   "metadata": {
    "id": "QA1p1dy_kbLj"
   },
   "outputs": [],
   "source": [
    "# Utitlity function to visualize 3D data during training\n",
    "def visualize_img_training(seg_class, mode, layer=78):\n",
    "    fig, ax = plt.subplots(nrows=1, ncols=3, figsize=(15, 5))\n",
    "    sample_img = train_img if mode=='Train' else val_img\n",
    "    ax[0].imshow(sample_img[:,:,layer], cmap='gray')\n",
    "    ax[0].set_title(\"3D Brain MRI\", family=\"Arial\", fontsize=18)\n",
    "    ax[0].axis('off')\n",
    "    label_name = classes_dict[seg_class]\n",
    "    sample_label = train_label if mode=='Train' else val_label\n",
    "    sample_label = sample_label[:,:,layer]\n",
    "    mask = np.where(sample_label==classes_dict[seg_class], 255, 0)\n",
    "    ax[1].imshow(mask, cmap='gray')\n",
    "    ax[1].set_title(\"Tumor Regions\", family=\"Arial\", fontsize=18)\n",
    "    ax[1].axis('off')\n",
    "\n",
    "    pred = train_pred if mode=='Train' else val_pred\n",
    "    pred = pred[:,:,layer]\n",
    "    mask = np.where(pred==classes_dict[seg_class], 255, 0)\n",
    "    ax[2].imshow(mask, cmap='gray')\n",
    "    ax[2].set_title(\"Model Prediction\", family=\"Arial\", fontsize=18)\n",
    "    ax[2].axis('off')\n",
    "\n",
    "    return layer"
   ]
  },
  {
   "cell_type": "code",
   "execution_count": 15,
   "metadata": {
    "id": "il1lpDRwRHfV"
   },
   "outputs": [],
   "source": [
    "# Interactive \n",
    "select_class = ToggleButtons(\n",
    "    options = ['Normal', 'Necrotic Tumor', 'Edema', 'Enhancing Tumor'],\n",
    "    description = 'Select Class',\n",
    "    disabled = False,\n",
    "    button_style = 'info')\n",
    "\n",
    "select_mode = ToggleButtons(\n",
    "    options = ['Train', 'Validation'],\n",
    "    description = 'Select Mode',\n",
    "    disabled = False,\n",
    "    button_style = 'info')\n",
    "\n",
    "select_layer = IntSlider(value=78, min=0, max=154, description=\"Select Layer\", continuous_update=False)"
   ]
  },
  {
   "cell_type": "code",
   "execution_count": 16,
   "metadata": {
    "colab": {
     "base_uri": "https://localhost:8080/",
     "height": 305,
     "referenced_widgets": [
      "512e88bf6e864165a4754642b8a51402",
      "a8b168579730474c9063606634a51b52",
      "06fcad395578440cb7f7f0399d4c5e6a",
      "d25b3c597f7a4f53a041ec2fe15c012b",
      "da42d7a89b4244f8a1aa5cebc5893588",
      "48ed10ada64f4a1b891172137a7001e8",
      "85947c7afd1b4a5d95d30ece9451ceea",
      "e95fb326f92c402ead99c50bd229e195",
      "fa0c04d287e5420f954d6269a75a3213",
      "47ba53adc6cf4955b8983a4bd4fe98af",
      "cda7358eb48948cbb88337f4f801fefb",
      "7207b64308434ba4a093a04f8a9c1235",
      "2a5da5b42cf7455189851699a98585ac"
     ]
    },
    "id": "LuTorjZERpcW",
    "outputId": "bb052b54-05a8-465f-e190-feadb1f1228e"
   },
   "outputs": [],
   "source": [
    "# interactive(visualize_img, seg_class=select_class, layer=select_layer, mode=select_mode)"
   ]
  },
  {
   "cell_type": "markdown",
   "metadata": {
    "id": "m286mVYA4BYB"
   },
   "source": [
    "# Training"
   ]
  },
  {
   "cell_type": "code",
   "execution_count": 17,
   "metadata": {
    "id": "3cNoYWDZEJug"
   },
   "outputs": [],
   "source": [
    "class EarlyStopping():\n",
    "    def __init__(self, tolerance=5, min_delta=0):\n",
    "        self.previous_delta = 0\n",
    "        self.tolerance = tolerance\n",
    "        self.min_delta = min_delta\n",
    "        self.counter = 0\n",
    "        self.early_stop = False\n",
    "\n",
    "    def __call__(self, train_loss, validation_loss):\n",
    "        if (validation_loss - train_loss) - self.previous_delta > self.min_delta:\n",
    "            self.counter +=1\n",
    "            if self.counter >= self.tolerance:  \n",
    "                self.early_stop = True\n",
    "        else: self.counter = 0\n",
    "        self.previous_delta = max(0, validation_loss - train_loss) # to ignore problems with accidental negative delta's. (Don't happen a lot but can cause problems)"
   ]
  },
  {
   "cell_type": "code",
   "execution_count": 18,
   "metadata": {
    "id": "qzjA9LJIg71u"
   },
   "outputs": [],
   "source": [
    "train_loss_history = []\n",
    "val_loss_history = []\n",
    "\n",
    "# Keeps track of the epochs when lr is reduced\n",
    "lr_tracker = []"
   ]
  },
  {
   "cell_type": "code",
   "execution_count": 19,
   "metadata": {
    "id": "YUmfRG3b5hUH"
   },
   "outputs": [],
   "source": [
    "model = UNet3D(in_channels=4, num_classes=4)"
   ]
  },
  {
   "cell_type": "code",
   "execution_count": 20,
   "metadata": {},
   "outputs": [],
   "source": [
    "# model.load_state_dict(torch.load('./best.pth')['model_state_dict'])"
   ]
  },
  {
   "cell_type": "code",
   "execution_count": 21,
   "metadata": {
    "id": "77nL6E19-g2T"
   },
   "outputs": [],
   "source": [
    "optimizer = torch.optim.Adam(model.parameters(), lr=0.01)"
   ]
  },
  {
   "cell_type": "code",
   "execution_count": 22,
   "metadata": {
    "id": "FtlzSl8a-txM"
   },
   "outputs": [],
   "source": [
    "loss = torch.nn.CrossEntropyLoss()"
   ]
  },
  {
   "cell_type": "code",
   "execution_count": 23,
   "metadata": {
    "id": "txah2zVYEPK6"
   },
   "outputs": [],
   "source": [
    "early_stopping = EarlyStopping(tolerance=50, min_delta=0)"
   ]
  },
  {
   "cell_type": "code",
   "execution_count": 24,
   "metadata": {
    "id": "Wjt90EeGmku8"
   },
   "outputs": [],
   "source": [
    "SHUFFLE = False"
   ]
  },
  {
   "cell_type": "code",
   "execution_count": 25,
   "metadata": {
    "id": "3NfwV-jEsIor"
   },
   "outputs": [],
   "source": [
    "BraTS_dataset = BraTS(base_folder='C:/Datasets/BraTS-2021/BraTS2021_Training_Data', shuffle=SHUFFLE)"
   ]
  },
  {
   "cell_type": "code",
   "execution_count": 26,
   "metadata": {
    "id": "0R5XOdHU8jKz"
   },
   "outputs": [],
   "source": [
    "data_loader = DataLoader(BraTS_dataset, batch_size=1)"
   ]
  },
  {
   "cell_type": "code",
   "execution_count": 27,
   "metadata": {
    "id": "1xODSMhujAjO"
   },
   "outputs": [],
   "source": [
    "# Keeps track of the minimum validation loss\n",
    "best_loss = 999999999999"
   ]
  },
  {
   "cell_type": "code",
   "execution_count": 28,
   "metadata": {
    "id": "So-atBZU5XaT"
   },
   "outputs": [],
   "source": [
    "train_epochs = 50\n",
    "BATCH_SIZE = 24 # (<= 155)\n",
    "stop_iter = 400000000"
   ]
  },
  {
   "cell_type": "code",
   "execution_count": 29,
   "metadata": {
    "colab": {
     "base_uri": "https://localhost:8080/"
    },
    "id": "ithL-x-Qs_fS",
    "outputId": "4f8d13a1-eb66-43ad-cc74-b85ab0802f46"
   },
   "outputs": [
    {
     "data": {
      "text/plain": [
       "device(type='cpu')"
      ]
     },
     "execution_count": 29,
     "metadata": {},
     "output_type": "execute_result"
    }
   ],
   "source": [
    "next(model.parameters()).device"
   ]
  },
  {
   "cell_type": "code",
   "execution_count": 30,
   "metadata": {},
   "outputs": [],
   "source": [
    "from matplotlib import pyplot as plt"
   ]
  },
  {
   "cell_type": "code",
   "execution_count": 31,
   "metadata": {},
   "outputs": [
    {
     "name": "stdout",
     "output_type": "stream",
     "text": [
      "(240, 240, 32)\n"
     ]
    },
    {
     "data": {
      "image/png": "[encoded data removed]",
      "text/plain": [
       "<Figure size 1500x1500 with 1 Axes>"
      ]
     },
     "metadata": {},
     "output_type": "display_data"
    },
    {
     "name": "stdout",
     "output_type": "stream",
     "text": [
      "(240, 240, 32)\n"
     ]
    },
    {
     "data": {
      "application/vnd.jupyter.widget-view+json": {
       "model_id": "228098bd53ca499abf7c6a465200db7f",
       "version_major": 2,
       "version_minor": 0
      },
      "text/plain": [
       "interactive(children=(ToggleButtons(button_style='info', description='Select Class', options=('Normal', 'Necro…"
      ]
     },
     "execution_count": 31,
     "metadata": {},
     "output_type": "execute_result"
    },
    {
     "data": {
      "image/png": "[encoded data removed]",
      "text/plain": [
       "<Figure size 1500x500 with 3 Axes>"
      ]
     },
     "metadata": {},
     "output_type": "display_data"
    }
   ],
   "source": [
    "BraTS_dataset.shuffle = False\n",
    "train_idx = BraTS_dataset.trainNames.index(train_visualization)\n",
    "# print(val_visualization)\n",
    "# val_idx = BraTS_dataset.valNames.index(val_visualization)\n",
    "BraTS_dataset.trainMode()\n",
    "sample_train, _ = BraTS_dataset.__getitem__(train_idx)\n",
    "BraTS_dataset.valMode()\n",
    "# sample_val, _ = BraTS_dataset.__getitem__(val_idx)\n",
    "# val_pred = np.empty(_label.shape)\n",
    "with torch.no_grad():\n",
    "    model = model.cpu()\n",
    "    # print(sample_train.shape)\n",
    "    sample_train = torch.reshape(torch.transpose(sample_train, 0, 1), (1, 4, 155, 240, 240))\n",
    "    sample_train = sample_train[:, :, :32, :, :]\n",
    "    # print(sample_train.shape)\n",
    "    train_pred = model(sample_train).argmax(1)\n",
    "    del sample_train\n",
    "    # val_pred = model(sample_val).argmax(1)\n",
    "    # del sample_val\n",
    "# train_pred = torch.zeros(1, 112, 240, 240)\n",
    "t_pred = train_pred.detach().numpy().T\n",
    "# print(t_pred.shape)\n",
    "# t_pred = np.transpose(train_pred, (2, 1, 0))\n",
    "t_pred = t_pred[:, :, :, 0]\n",
    "print(t_pred.shape)\n",
    "plt.figure(figsize=(15, 15))\n",
    "plt.imshow(t_pred[:, :, 20], cmap=\"gray\")\n",
    "plt.show()\n",
    "\n",
    "print(t_pred.shape)\n",
    "\n",
    "# train_pred = train_pred[0, 10, :, :]\n",
    "# v_pred = val_pred.detach().numpy().T\n",
    "# v_pred = np.transpose(val_pred, (2,1,0))\n",
    "train_pred = np.where(train_pred==3, 4, train_pred)\n",
    "# print(train_pred.shape)\n",
    "# val_pred = np.where(val_pred==3, 4, val_pred)\n",
    "interactive(visualize_img_training, seg_class=select_class, layer=select_layer, mode=select_mode)\n"
   ]
  },
  {
   "cell_type": "code",
   "execution_count": 32,
   "metadata": {},
   "outputs": [
    {
     "data": {
      "text/plain": [
       "3451"
      ]
     },
     "execution_count": 32,
     "metadata": {},
     "output_type": "execute_result"
    }
   ],
   "source": [
    "import gc\n",
    "gc.collect()"
   ]
  },
  {
   "cell_type": "code",
   "execution_count": 33,
   "metadata": {},
   "outputs": [
    {
     "data": {
      "text/plain": [
       "'NVIDIA GeForce RTX 3080'"
      ]
     },
     "execution_count": 33,
     "metadata": {},
     "output_type": "execute_result"
    }
   ],
   "source": [
    "torch.cuda.get_device_name()"
   ]
  },
  {
   "cell_type": "code",
   "execution_count": 34,
   "metadata": {},
   "outputs": [],
   "source": [
    "with torch.no_grad():\n",
    "    torch.cuda.empty_cache()"
   ]
  },
  {
   "cell_type": "code",
   "execution_count": 35,
   "metadata": {
    "id": "urIejLzM4aYU"
   },
   "outputs": [
    {
     "name": "stdout",
     "output_type": "stream",
     "text": [
      "*** Training Epoch 1 ***\n"
     ]
    },
    {
     "name": "stderr",
     "output_type": "stream",
     "text": [
      "  0%|                                                                                          | 0/997 [00:00<?, ?it/s]"
     ]
    },
    {
     "name": "stdout",
     "output_type": "stream",
     "text": [
      "(1, 155, 4, 240, 240)\n",
      "IMAGE SHAPE\t (1, 155, 4, 240, 240)\n",
      "IMAGE SHAPE2\t (1, 4, 160, 240, 240)\n"
     ]
    },
    {
     "data": {
      "image/png": "[encoded data removed]",
      "text/plain": [
       "<Figure size 640x480 with 3 Axes>"
      ]
     },
     "metadata": {},
     "output_type": "display_data"
    },
    {
     "data": {
      "image/png": "[encoded data removed]",
      "text/plain": [
       "<Figure size 640x480 with 3 Axes>"
      ]
     },
     "metadata": {},
     "output_type": "display_data"
    },
    {
     "name": "stderr",
     "output_type": "stream",
     "text": [
      "  0%|                                                                                          | 0/997 [00:06<?, ?it/s]\n",
      "\n",
      "KeyboardInterrupt\n",
      "\n"
     ]
    },
    {
     "data": {
      "image/png": "[encoded data removed]",
      "text/plain": [
       "<Figure size 640x480 with 3 Axes>"
      ]
     },
     "metadata": {},
     "output_type": "display_data"
    }
   ],
   "source": [
    "for epoch in range(train_epochs):\n",
    "\n",
    "    if SHUFFLE: BraTS_dataset.shuffle = True\n",
    "    if torch.cuda.is_available():\n",
    "        model = model.cuda()\n",
    "    \n",
    "    # Training\n",
    "    print('*** Training Epoch %d ***'%(epoch+1))\n",
    "    model.train(True)\n",
    "    BraTS_dataset.trainMode()\n",
    "    torch.set_grad_enabled(True)\n",
    "    total_train_loss = 0\n",
    "    train_counter = 0\n",
    "    show_flag = True\n",
    "    for _img, _label in tqdm(data_loader):\n",
    "        print(_img.shape)\n",
    "        gc.collect()\n",
    "        # print(\"IN TRAIN\")\n",
    "        # _img = _img.squeeze(0)\n",
    "        # _label = _label.squeeze(0)\n",
    "        # print(_img.shape, _label.shape)\n",
    "        \n",
    "        # for i in range(0, 155, BATCH_SIZE):\n",
    "        img = _img\n",
    "        label = _label\n",
    "        \n",
    "        if torch.cuda.is_available():\n",
    "            img, label = img.cuda(), label.cuda()\n",
    "\n",
    "        \n",
    "        print(\"IMAGE SHAPE\\t\", img.shape)\n",
    "        \n",
    "        \n",
    "        # print(img.shape, label.shape)\n",
    "        img = torch.reshape(torch.transpose(img, 0, 1), (1, 4, 155, 240, 240))\n",
    "        img = torch.cat((torch.zeros(1, 4, 3, 240, 240).cuda(), img, torch.zeros(1, 4, 2, 240, 240).cuda()), 2)\n",
    "        \n",
    "        print(\"IMAGE SHAPE2\\t\", img.shape)\n",
    "        \n",
    "        # print(\"THE SHAPE after CAT\", img.shape)\n",
    "        img0 = img[:, :, 0:32, :, :]\n",
    "        img1 = img[:, :, 16:48, :, :]\n",
    "        img2 = img[:, :, 32:64, :, :]\n",
    "        img3 = img[:, :, 48:80, :, :]\n",
    "        img4 = img[:, :, 64:96, :, :]\n",
    "        img5 = img[:, :, 80:112, :, :]\n",
    "        img6 = img[:, :, 96:128, :, :]\n",
    "        img7 = img[:, :, 112:144, :, :]\n",
    "        img8 = img[:, :, 128:160, :, :]\n",
    "\n",
    "        \n",
    "        \n",
    "        \n",
    "\n",
    "        label = torch.reshape(torch.transpose(label, 0, 1), (1, 4, 155, 240, 240))\n",
    "        label = torch.cat((torch.zeros(1, 4, 3, 240, 240).cuda(), label, torch.zeros(1, 4, 2, 240, 240).cuda()), 2)\n",
    "        \n",
    "        label0 = label[:, :, 0:32, :, :]\n",
    "        label1 = label[:, :, 16:48, :, :]\n",
    "        label2 = label[:, :, 32:64, :, :]\n",
    "        label3 = label[:, :, 48:80, :, :]\n",
    "        label4 = label[:, :, 64:96, :, :]\n",
    "        label5 = label[:, :, 80:112, :, :]\n",
    "        label6 = label[:, :, 96:128, :, :]\n",
    "        label7 = label[:, :, 112:144, :, :]\n",
    "        label8 = label[:, :, 128:160, :, :]\n",
    "        \n",
    "\n",
    "        \n",
    "        # img0\n",
    "        pred = model(img0)\n",
    "        # print(label0.shape, pred.shape, img0.shape)\n",
    "\n",
    "        # plot \n",
    "\n",
    "        # print(pred.shape)\n",
    "        # plt.imshow(pred.detach().numpy()[0, 0, 10, :, :])\n",
    "        # plt.figure(figsize=(5, 5))\n",
    "        # plt.imshow(pred.detach().cpu().numpy()[0, 0, 10, :, :], cmap=\"gray\")\n",
    "        # plt.show()\n",
    "        \n",
    "        if show_flag:\n",
    "            f, axarr = plt.subplots(nrows=1,ncols=3)\n",
    "            plt.sca(axarr[0]); \n",
    "            plt.imshow(pred.detach().cpu().numpy()[0, 0, 10, :, :], cmap=\"gray\"); plt.title('title 1')\n",
    "            plt.sca(axarr[1]); \n",
    "            plt.imshow(pred.detach().cpu().numpy()[0, 0, 15, :, :], cmap=\"gray\"); plt.title('title 2')\n",
    "            plt.sca(axarr[2]); \n",
    "            plt.imshow(pred.detach().cpu().numpy()[0, 0, 25, :, :], cmap=\"gray\"); plt.title('title 3')\n",
    "            plt.show()\n",
    "\n",
    "        batch_loss = loss(pred, label0)\n",
    "        optimizer.zero_grad()\n",
    "        batch_loss.backward()\n",
    "        optimizer.step()\n",
    "        total_train_loss += batch_loss.item()\n",
    "        # train_counter+=1\n",
    "        # if train_counter>stop_iter: break\n",
    "        \n",
    "        \n",
    "        \n",
    "        # img1\n",
    "        pred = model(img1)\n",
    "        # print(label1.shape, pred.shape, img1.shape)\n",
    "\n",
    "        # plot \n",
    "\n",
    "        if show_flag:\n",
    "            f, axarr = plt.subplots(nrows=1,ncols=3)\n",
    "            plt.sca(axarr[0]); \n",
    "            plt.imshow(pred.detach().cpu().numpy()[0, 0, 10, :, :], cmap=\"gray\"); plt.title('title 1')\n",
    "            plt.sca(axarr[1]); \n",
    "            plt.imshow(pred.detach().cpu().numpy()[0, 0, 15, :, :], cmap=\"gray\"); plt.title('title 2')\n",
    "            plt.sca(axarr[2]); \n",
    "            plt.imshow(pred.detach().cpu().numpy()[0, 0, 25, :, :], cmap=\"gray\"); plt.title('title 3')\n",
    "            plt.show()\n",
    "\n",
    "        batch_loss = loss(pred, label1)\n",
    "        optimizer.zero_grad()\n",
    "        batch_loss.backward()\n",
    "        optimizer.step()\n",
    "        total_train_loss += batch_loss.item()\n",
    "        # train_counter+=1\n",
    "        # if train_counter>stop_iter: break\n",
    "        \n",
    "        #img2\n",
    "        pred = model(img2)\n",
    "        # print(label2.shape, pred.shape, img2.shape)\n",
    "\n",
    "        # plot \n",
    "\n",
    "        if show_flag:\n",
    "            f, axarr = plt.subplots(nrows=1,ncols=3)\n",
    "            plt.sca(axarr[0]); \n",
    "            plt.imshow(pred.detach().cpu().numpy()[0, 0, 10, :, :], cmap=\"gray\"); plt.title('title 1')\n",
    "            plt.sca(axarr[1]); \n",
    "            plt.imshow(pred.detach().cpu().numpy()[0, 0, 15, :, :], cmap=\"gray\"); plt.title('title 2')\n",
    "            plt.sca(axarr[2]); \n",
    "            plt.imshow(pred.detach().cpu().numpy()[0, 0, 25, :, :], cmap=\"gray\"); plt.title('title 3')\n",
    "            plt.show()\n",
    "        \n",
    "        batch_loss = loss(pred, label2)\n",
    "        optimizer.zero_grad()\n",
    "        batch_loss.backward()\n",
    "        optimizer.step()\n",
    "        total_train_loss += batch_loss.item()\n",
    "        # train_counter+=1\n",
    "        # if train_counter>stop_iter: break\n",
    "        \n",
    "        #img3\n",
    "        pred = model(img3)\n",
    "        # print(label3.shape, pred.shape, img3.shape)\n",
    "\n",
    "        # plot \n",
    "\n",
    "        if show_flag:\n",
    "            f, axarr = plt.subplots(nrows=1,ncols=3)\n",
    "            plt.sca(axarr[0]); \n",
    "            plt.imshow(pred.detach().cpu().numpy()[0, 0, 10, :, :], cmap=\"gray\"); plt.title('title 1')\n",
    "            plt.sca(axarr[1]); \n",
    "            plt.imshow(pred.detach().cpu().numpy()[0, 0, 15, :, :], cmap=\"gray\"); plt.title('title 2')\n",
    "            plt.sca(axarr[2]); \n",
    "            plt.imshow(pred.detach().cpu().numpy()[0, 0, 25, :, :], cmap=\"gray\"); plt.title('title 3')\n",
    "            plt.show()\n",
    "\n",
    "        batch_loss = loss(pred, label3)\n",
    "        optimizer.zero_grad()\n",
    "        batch_loss.backward()\n",
    "        optimizer.step()\n",
    "        total_train_loss += batch_loss.item()\n",
    "        \n",
    "        #img4\n",
    "        pred = model(img4)\n",
    "        # print(label4.shape, pred.shape, img4.shape)\n",
    "\n",
    "        # plot \n",
    "\n",
    "        if show_flag:\n",
    "            f, axarr = plt.subplots(nrows=1,ncols=3)\n",
    "            plt.sca(axarr[0]); \n",
    "            plt.imshow(pred.detach().cpu().numpy()[0, 0, 10, :, :], cmap=\"gray\"); plt.title('title 1')\n",
    "            plt.sca(axarr[1]); \n",
    "            plt.imshow(pred.detach().cpu().numpy()[0, 0, 15, :, :], cmap=\"gray\"); plt.title('title 2')\n",
    "            plt.sca(axarr[2]); \n",
    "            plt.imshow(pred.detach().cpu().numpy()[0, 0, 25, :, :], cmap=\"gray\"); plt.title('title 3')\n",
    "            plt.show()\n",
    "        \n",
    "        batch_loss = loss(pred, label4)\n",
    "        optimizer.zero_grad()\n",
    "        batch_loss.backward()\n",
    "        optimizer.step()\n",
    "        total_train_loss += batch_loss.item()\n",
    "        # train_counter+=1\n",
    "        # if train_counter>stop_iter: break\n",
    "        \n",
    "        \n",
    "        #img5\n",
    "        pred = model(img5)\n",
    "        # print(label5.shape, pred.shape, img5.shape)\n",
    "\n",
    "        # plot \n",
    "\n",
    "        if show_flag:\n",
    "            f, axarr = plt.subplots(nrows=1,ncols=3)\n",
    "            plt.sca(axarr[0]); \n",
    "            plt.imshow(pred.detach().cpu().numpy()[0, 0, 10, :, :], cmap=\"gray\"); plt.title('title 1')\n",
    "            plt.sca(axarr[1]); \n",
    "            plt.imshow(pred.detach().cpu().numpy()[0, 0, 15, :, :], cmap=\"gray\"); plt.title('title 2')\n",
    "            plt.sca(axarr[2]); \n",
    "            plt.imshow(pred.detach().cpu().numpy()[0, 0, 25, :, :], cmap=\"gray\"); plt.title('title 3')\n",
    "            plt.show()\n",
    "\n",
    "        batch_loss = loss(pred, label5)\n",
    "        optimizer.zero_grad()\n",
    "        batch_loss.backward()\n",
    "        optimizer.step()\n",
    "        total_train_loss += batch_loss.item()\n",
    "        # train_counter+=1\n",
    "        # if train_counter>stop_iter: break\n",
    "        \n",
    "        \n",
    "        \n",
    "        #img6\n",
    "        pred = model(img6)\n",
    "        # print(label6.shape, pred.shape, img6.shape)\n",
    "\n",
    "        # plot \n",
    "\n",
    "        if show_flag:\n",
    "            f, axarr = plt.subplots(nrows=1,ncols=3)\n",
    "            plt.sca(axarr[0]); \n",
    "            plt.imshow(pred.detach().cpu().numpy()[0, 0, 10, :, :], cmap=\"gray\"); plt.title('title 1')\n",
    "            plt.sca(axarr[1]); \n",
    "            plt.imshow(pred.detach().cpu().numpy()[0, 0, 15, :, :], cmap=\"gray\"); plt.title('title 2')\n",
    "            plt.sca(axarr[2]); \n",
    "            plt.imshow(pred.detach().cpu().numpy()[0, 0, 25, :, :], cmap=\"gray\"); plt.title('title 3')\n",
    "            plt.show()\n",
    "\n",
    "        batch_loss = loss(pred, label6)\n",
    "        optimizer.zero_grad()\n",
    "        batch_loss.backward()\n",
    "        optimizer.step()\n",
    "        total_train_loss += batch_loss.item()\n",
    "        # train_counter+=1\n",
    "        # if train_counter>stop_iter: break\n",
    "        \n",
    "        #img2\n",
    "        pred = model(img7)\n",
    "        # print(label7.shape, pred.shape, img2.shape)\n",
    "\n",
    "        # plot \n",
    "\n",
    "        if show_flag:\n",
    "            f, axarr = plt.subplots(nrows=1,ncols=3)\n",
    "            plt.sca(axarr[0]); \n",
    "            plt.imshow(pred.detach().cpu().numpy()[0, 0, 10, :, :], cmap=\"gray\"); plt.title('title 1')\n",
    "            plt.sca(axarr[1]); \n",
    "            plt.imshow(pred.detach().cpu().numpy()[0, 0, 15, :, :], cmap=\"gray\"); plt.title('title 2')\n",
    "            plt.sca(axarr[2]); \n",
    "            plt.imshow(pred.detach().cpu().numpy()[0, 0, 25, :, :], cmap=\"gray\"); plt.title('title 3')\n",
    "            plt.show()\n",
    "\n",
    "        batch_loss = loss(pred, label7)\n",
    "        optimizer.zero_grad()\n",
    "        batch_loss.backward()\n",
    "        optimizer.step()\n",
    "        total_train_loss += batch_loss.item()\n",
    "        # train_counter+=1\n",
    "        # if train_counter>stop_iter: break\n",
    "        \n",
    "        #img8\n",
    "        pred = model(img8)\n",
    "        # print(label7.shape, pred.shape, img2.shape)\n",
    "\n",
    "        # plot \n",
    "\n",
    "        if show_flag:\n",
    "            f, axarr = plt.subplots(nrows=1,ncols=3)\n",
    "            plt.sca(axarr[0]); \n",
    "            plt.imshow(pred.detach().cpu().numpy()[0, 0, 10, :, :], cmap=\"gray\"); plt.title('title 1')\n",
    "            plt.sca(axarr[1]); \n",
    "            plt.imshow(pred.detach().cpu().numpy()[0, 0, 15, :, :], cmap=\"gray\"); plt.title('title 2')\n",
    "            plt.sca(axarr[2]); \n",
    "            plt.imshow(pred.detach().cpu().numpy()[0, 0, 25, :, :], cmap=\"gray\"); plt.title('title 3')\n",
    "            plt.show()\n",
    "        \n",
    "        show_flag = False\n",
    "        \n",
    "        batch_loss = loss(pred, label8)\n",
    "        optimizer.zero_grad()\n",
    "        batch_loss.backward()\n",
    "        optimizer.step()\n",
    "        total_train_loss += batch_loss.item()\n",
    "        # train_counter+=1\n",
    "        # if train_counter>stop_iter: break\n",
    "        \n",
    "        train_counter+=1\n",
    "        if train_counter>stop_iter: break\n",
    "        \n",
    "    # batch_per_img = 155//BATCH_SIZE if 155%BATCH_SIZE==0 else (155//BATCH_SIZE)+1\n",
    "    batch_per_img = 1\n",
    "    final_train_loss = total_train_loss / (1 * batch_per_img)\n",
    "    train_loss_history.append(final_train_loss)\n",
    "    print('Epoch: %d  Train Loss: %.6f \\n' %(epoch+1, final_train_loss))\n",
    "\n",
    "    # Validation\n",
    "    print('*** Validation Epoch %d ***'%(epoch+1))\n",
    "    model.eval()\n",
    "    BraTS_dataset.valMode()\n",
    "    torch.set_grad_enabled(False)\n",
    "    total_val_loss = 0\n",
    "    val_counter=0\n",
    "    for _img, _label in tqdm(data_loader):\n",
    "        # print(\"IN VAL\")\n",
    "        # _img = _img.squeeze(0)\n",
    "        # _label = _label.squeeze(0)\n",
    "        # for i in range(0, 155, BATCH_SIZE):\n",
    "        img = _img\n",
    "        label = _label\n",
    "        \n",
    "        # print(\"THE SHAPE AFTER CAT\", img.shape)\n",
    "        \n",
    "        if torch.cuda.is_available():\n",
    "            img, label = img.cuda(), label.cuda()\n",
    "                \n",
    "        print(\"IMAGE SHAPE\\t\", img.shape)\n",
    "        img = torch.reshape(torch.transpose(img, 0, 1), (1, 4, 155, 240, 240))\n",
    "        img = torch.cat((torch.zeros(1, 4, 3, 240, 240).cuda(), img, torch.zeros(1, 4, 2, 240, 240).cuda()), 2)\n",
    "        print(\"IMAGE SHAPE2\\t\", img.shape)\n",
    "        \n",
    "        img0 = img[:, :, 0:32, :, :]\n",
    "        img1 = img[:, :, 16:48, :, :]\n",
    "        img2 = img[:, :, 32:64, :, :]\n",
    "        img3 = img[:, :, 48:80, :, :]\n",
    "        img4 = img[:, :, 64:96, :, :]\n",
    "        img5 = img[:, :, 80:112, :, :]\n",
    "        img6 = img[:, :, 96:128, :, :]\n",
    "        img7 = img[:, :, 112:144, :, :]\n",
    "        img8 = img[:, :, 128:160, :, :]\n",
    "        \n",
    "        \n",
    "        \n",
    "\n",
    "        label = torch.reshape(torch.transpose(label, 0, 1), (1, 4, 155, 240, 240))\n",
    "        label = torch.cat((torch.zeros(1, 4, 3, 240, 240).cuda(), label, torch.zeros(1, 4, 2, 240, 240).cuda()), 2)\n",
    "        \n",
    "        label0 = label[:, :, 0:32, :, :]\n",
    "        label1 = label[:, :, 16:48, :, :]\n",
    "        label2 = label[:, :, 32:64, :, :]\n",
    "        label3 = label[:, :, 48:80, :, :]\n",
    "        label4 = label[:, :, 64:96, :, :]\n",
    "        label5 = label[:, :, 80:112, :, :]\n",
    "        label6 = label[:, :, 96:128, :, :]\n",
    "        label7 = label[:, :, 112:144, :, :]\n",
    "        label8 = label[:, :, 128:160, :, :]\n",
    "        \n",
    "        pred = model(img1)\n",
    "        batch_loss = loss(pred, label1)\n",
    "        total_val_loss += batch_loss.item()\n",
    "        \n",
    "        \n",
    "        pred = model(img2)\n",
    "        batch_loss = loss(pred, label2)\n",
    "        total_val_loss += batch_loss.item()\n",
    "        \n",
    "        pred = model(img3)\n",
    "        batch_loss = loss(pred, label3)\n",
    "        total_val_loss += batch_loss.item()\n",
    "        \n",
    "        pred = model(img4)\n",
    "        batch_loss = loss(pred, label4)\n",
    "        total_val_loss += batch_loss.item()\n",
    "        \n",
    "        pred = model(img5)\n",
    "        batch_loss = loss(pred, label5)\n",
    "        total_val_loss += batch_loss.item()\n",
    "        pred = model(img6)\n",
    "        batch_loss = loss(pred, label6)\n",
    "        total_val_loss += batch_loss.item()\n",
    "        pred = model(img7)\n",
    "        batch_loss = loss(pred, label7)\n",
    "        total_val_loss += batch_loss.item()\n",
    "        pred = model(img8)\n",
    "        batch_loss = loss(pred, label8)\n",
    "        total_val_loss += batch_loss.item()\n",
    "        \n",
    "        val_counter+=1\n",
    "        if val_counter>stop_iter: break\n",
    "\n",
    "\n",
    "    # batch_per_img = 155//BATCH_SIZE if 155%BATCH_SIZE==0 else (155//BATCH_SIZE)+1\n",
    "    batch_per_img = 1\n",
    "    final_val_loss = total_val_loss / (1 * batch_per_img)\n",
    "    val_loss_history.append(final_val_loss)\n",
    "    print('Epoch: %d  Validation Loss: %.6f \\n\\n' %(epoch+1, final_val_loss))\n",
    "    # Saving the best Model\n",
    "    if total_val_loss <= best_loss:\n",
    "        torch.save({\n",
    "          'epoch': epoch,\n",
    "          'model_state_dict': model.state_dict(),\n",
    "          'optimizer_state_dict': optimizer.state_dict(),\n",
    "          'train_loss': total_train_loss,\n",
    "          'val_loss': total_val_loss,\n",
    "        }, './best_3d.pth')\n",
    "\n",
    "    # Early Stopping\n",
    "    early_stopping(total_train_loss, total_val_loss)\n",
    "    if early_stopping.early_stop:\n",
    "        print(\"Early Stopping at Epoch: \", epoch)\n",
    "        break\n",
    "\n",
    "    # Learning rate scheduling\n",
    "    if early_stopping.counter==3:\n",
    "        print(\"Reducing learning rate.\")\n",
    "        for param_group in optimizer.param_groups:\n",
    "            param_group[\"lr\"] *= 0.5\n",
    "        lr_tracker.append(epoch)\n",
    "\n",
    "    # Plotting Train/Validation Loss\n",
    "    plotter(train_loss_history, val_loss_history, lr_tracker, 'loss', 'Train / Val Loss')\n",
    "\n",
    "    # Visualizing Model Predictions\n",
    "    \n",
    "\n",
    "    \n",
    "    # BraTS_dataset.shuffle = False\n",
    "    # train_idx = BraTS_dataset.trainNames.index(train_visualization)\n",
    "    # val_idx = BraTS_dataset.valNames.index(val_visualization)\n",
    "    # BraTS_dataset.trainMode()\n",
    "    # sample_train, _ = BraTS_dataset.__getitem__(train_idx)\n",
    "    # BraTS_dataset.valMode()\n",
    "    # sample_val, _ = BraTS_dataset.__getitem__(val_idx)\n",
    "    # val_pred = np.empty(_label.shape)\n",
    "    # with torch.no_grad():\n",
    "    #     model = model.cpu()\n",
    "    #     train_pred = model(sample_train).argmax(1)\n",
    "    #     del sample_train\n",
    "    #     val_pred = model(sample_val).argmax(1)\n",
    "    #     del sample_val\n",
    "    # train_pred = train_pred.detach().numpy().T\n",
    "    # train_pred = np.transpose(train_pred, (2,1,0))\n",
    "    # val_pred = val_pred.detach().numpy().T\n",
    "    # val_pred = np.transpose(val_pred, (2,1,0))\n",
    "    # train_pred = np.where(train_pred==3, 4, train_pred)\n",
    "    # val_pred = np.where(val_pred==3, 4, val_pred)\n",
    "    # interactive(visualize_img_training, seg_class=select_class, layer=select_layer, mode=select_mode)\n"
   ]
  },
  {
   "cell_type": "code",
   "execution_count": null,
   "metadata": {},
   "outputs": [],
   "source": [
    "# interactive(visualize_img_training, seg_class=select_class, layer=select_layer, mode=select_mode)"
   ]
  },
  {
   "cell_type": "code",
   "execution_count": null,
   "metadata": {},
   "outputs": [],
   "source": []
  },
  {
   "cell_type": "code",
   "execution_count": null,
   "metadata": {},
   "outputs": [],
   "source": []
  },
  {
   "cell_type": "code",
   "execution_count": null,
   "metadata": {},
   "outputs": [],
   "source": []
  },
  {
   "cell_type": "code",
   "execution_count": null,
   "metadata": {},
   "outputs": [],
   "source": []
  },
  {
   "cell_type": "code",
   "execution_count": null,
   "metadata": {},
   "outputs": [],
   "source": []
  },
  {
   "cell_type": "code",
   "execution_count": null,
   "metadata": {},
   "outputs": [],
   "source": []
  },
  {
   "cell_type": "code",
   "execution_count": null,
   "metadata": {},
   "outputs": [],
   "source": []
  },
  {
   "cell_type": "code",
   "execution_count": null,
   "metadata": {},
   "outputs": [],
   "source": []
  },
  {
   "cell_type": "code",
   "execution_count": null,
   "metadata": {},
   "outputs": [],
   "source": []
  },
  {
   "cell_type": "code",
   "execution_count": null,
   "metadata": {},
   "outputs": [],
   "source": []
  },
  {
   "cell_type": "code",
   "execution_count": null,
   "metadata": {},
   "outputs": [],
   "source": []
  }
 ],
 "metadata": {
  "accelerator": "GPU",
  "colab": {
   "collapsed_sections": [],
   "provenance": []
  },
  "gpuClass": "standard",
  "kernelspec": {
   "display_name": "Python 3 (ipykernel)",
   "language": "python",
   "name": "python3"
  },
  "language_info": {
   "codemirror_mode": {
    "name": "ipython",
    "version": 3
   },
   "file_extension": ".py",
   "mimetype": "text/x-python",
   "name": "python",
   "nbconvert_exporter": "python",
   "pygments_lexer": "ipython3",
   "version": "3.9.12"
  },
  "widgets": {
   "application/vnd.jupyter.widget-state+json": {
    "06fcad395578440cb7f7f0399d4c5e6a": {
     "model_module": "@jupyter-widgets/controls",
     "model_module_version": "1.5.0",
     "model_name": "ToggleButtonsModel",
     "state": {
      "_dom_classes": [],
      "_model_module": "@jupyter-widgets/controls",
      "_model_module_version": "1.5.0",
      "_model_name": "ToggleButtonsModel",
      "_options_labels": [
       "Train",
       "Validation"
      ],
      "_view_count": null,
      "_view_module": "@jupyter-widgets/controls",
      "_view_module_version": "1.5.0",
      "_view_name": "ToggleButtonsView",
      "button_style": "info",
      "description": "Select Mode",
      "description_tooltip": null,
      "disabled": false,
      "icons": [],
      "index": 0,
      "layout": "IPY_MODEL_fa0c04d287e5420f954d6269a75a3213",
      "style": "IPY_MODEL_47ba53adc6cf4955b8983a4bd4fe98af",
      "tooltips": []
     }
    },
    "2a5da5b42cf7455189851699a98585ac": {
     "model_module": "@jupyter-widgets/base",
     "model_module_version": "1.2.0",
     "model_name": "LayoutModel",
     "state": {
      "_model_module": "@jupyter-widgets/base",
      "_model_module_version": "1.2.0",
      "_model_name": "LayoutModel",
      "_view_count": null,
      "_view_module": "@jupyter-widgets/base",
      "_view_module_version": "1.2.0",
      "_view_name": "LayoutView",
      "align_content": null,
      "align_items": null,
      "align_self": null,
      "border": null,
      "bottom": null,
      "display": null,
      "flex": null,
      "flex_flow": null,
      "grid_area": null,
      "grid_auto_columns": null,
      "grid_auto_flow": null,
      "grid_auto_rows": null,
      "grid_column": null,
      "grid_gap": null,
      "grid_row": null,
      "grid_template_areas": null,
      "grid_template_columns": null,
      "grid_template_rows": null,
      "height": null,
      "justify_content": null,
      "justify_items": null,
      "left": null,
      "margin": null,
      "max_height": null,
      "max_width": null,
      "min_height": null,
      "min_width": null,
      "object_fit": null,
      "object_position": null,
      "order": null,
      "overflow": null,
      "overflow_x": null,
      "overflow_y": null,
      "padding": null,
      "right": null,
      "top": null,
      "visibility": null,
      "width": null
     }
    },
    "47ba53adc6cf4955b8983a4bd4fe98af": {
     "model_module": "@jupyter-widgets/controls",
     "model_module_version": "1.5.0",
     "model_name": "ToggleButtonsStyleModel",
     "state": {
      "_model_module": "@jupyter-widgets/controls",
      "_model_module_version": "1.5.0",
      "_model_name": "ToggleButtonsStyleModel",
      "_view_count": null,
      "_view_module": "@jupyter-widgets/base",
      "_view_module_version": "1.2.0",
      "_view_name": "StyleView",
      "button_width": "",
      "description_width": "",
      "font_weight": ""
     }
    },
    "48ed10ada64f4a1b891172137a7001e8": {
     "model_module": "@jupyter-widgets/base",
     "model_module_version": "1.2.0",
     "model_name": "LayoutModel",
     "state": {
      "_model_module": "@jupyter-widgets/base",
      "_model_module_version": "1.2.0",
      "_model_name": "LayoutModel",
      "_view_count": null,
      "_view_module": "@jupyter-widgets/base",
      "_view_module_version": "1.2.0",
      "_view_name": "LayoutView",
      "align_content": null,
      "align_items": null,
      "align_self": null,
      "border": null,
      "bottom": null,
      "display": null,
      "flex": null,
      "flex_flow": null,
      "grid_area": null,
      "grid_auto_columns": null,
      "grid_auto_flow": null,
      "grid_auto_rows": null,
      "grid_column": null,
      "grid_gap": null,
      "grid_row": null,
      "grid_template_areas": null,
      "grid_template_columns": null,
      "grid_template_rows": null,
      "height": null,
      "justify_content": null,
      "justify_items": null,
      "left": null,
      "margin": null,
      "max_height": null,
      "max_width": null,
      "min_height": null,
      "min_width": null,
      "object_fit": null,
      "object_position": null,
      "order": null,
      "overflow": null,
      "overflow_x": null,
      "overflow_y": null,
      "padding": null,
      "right": null,
      "top": null,
      "visibility": null,
      "width": null
     }
    },
    "512e88bf6e864165a4754642b8a51402": {
     "model_module": "@jupyter-widgets/controls",
     "model_module_version": "1.5.0",
     "model_name": "VBoxModel",
     "state": {
      "_dom_classes": [
       "widget-interact"
      ],
      "_model_module": "@jupyter-widgets/controls",
      "_model_module_version": "1.5.0",
      "_model_name": "VBoxModel",
      "_view_count": null,
      "_view_module": "@jupyter-widgets/controls",
      "_view_module_version": "1.5.0",
      "_view_name": "VBoxView",
      "box_style": "",
      "children": [
       "IPY_MODEL_a8b168579730474c9063606634a51b52",
       "IPY_MODEL_06fcad395578440cb7f7f0399d4c5e6a",
       "IPY_MODEL_d25b3c597f7a4f53a041ec2fe15c012b",
       "IPY_MODEL_da42d7a89b4244f8a1aa5cebc5893588"
      ],
      "layout": "IPY_MODEL_48ed10ada64f4a1b891172137a7001e8"
     }
    },
    "7207b64308434ba4a093a04f8a9c1235": {
     "model_module": "@jupyter-widgets/controls",
     "model_module_version": "1.5.0",
     "model_name": "SliderStyleModel",
     "state": {
      "_model_module": "@jupyter-widgets/controls",
      "_model_module_version": "1.5.0",
      "_model_name": "SliderStyleModel",
      "_view_count": null,
      "_view_module": "@jupyter-widgets/base",
      "_view_module_version": "1.2.0",
      "_view_name": "StyleView",
      "description_width": "",
      "handle_color": null
     }
    },
    "85947c7afd1b4a5d95d30ece9451ceea": {
     "model_module": "@jupyter-widgets/base",
     "model_module_version": "1.2.0",
     "model_name": "LayoutModel",
     "state": {
      "_model_module": "@jupyter-widgets/base",
      "_model_module_version": "1.2.0",
      "_model_name": "LayoutModel",
      "_view_count": null,
      "_view_module": "@jupyter-widgets/base",
      "_view_module_version": "1.2.0",
      "_view_name": "LayoutView",
      "align_content": null,
      "align_items": null,
      "align_self": null,
      "border": null,
      "bottom": null,
      "display": null,
      "flex": null,
      "flex_flow": null,
      "grid_area": null,
      "grid_auto_columns": null,
      "grid_auto_flow": null,
      "grid_auto_rows": null,
      "grid_column": null,
      "grid_gap": null,
      "grid_row": null,
      "grid_template_areas": null,
      "grid_template_columns": null,
      "grid_template_rows": null,
      "height": null,
      "justify_content": null,
      "justify_items": null,
      "left": null,
      "margin": null,
      "max_height": null,
      "max_width": null,
      "min_height": null,
      "min_width": null,
      "object_fit": null,
      "object_position": null,
      "order": null,
      "overflow": null,
      "overflow_x": null,
      "overflow_y": null,
      "padding": null,
      "right": null,
      "top": null,
      "visibility": null,
      "width": null
     }
    },
    "a8b168579730474c9063606634a51b52": {
     "model_module": "@jupyter-widgets/controls",
     "model_module_version": "1.5.0",
     "model_name": "ToggleButtonsModel",
     "state": {
      "_dom_classes": [],
      "_model_module": "@jupyter-widgets/controls",
      "_model_module_version": "1.5.0",
      "_model_name": "ToggleButtonsModel",
      "_options_labels": [
       "Normal",
       "Necrotic Tumor",
       "Edema",
       "Enhancing Tumor"
      ],
      "_view_count": null,
      "_view_module": "@jupyter-widgets/controls",
      "_view_module_version": "1.5.0",
      "_view_name": "ToggleButtonsView",
      "button_style": "info",
      "description": "Select Class",
      "description_tooltip": null,
      "disabled": false,
      "icons": [],
      "index": 0,
      "layout": "IPY_MODEL_85947c7afd1b4a5d95d30ece9451ceea",
      "style": "IPY_MODEL_e95fb326f92c402ead99c50bd229e195",
      "tooltips": []
     }
    },
    "cda7358eb48948cbb88337f4f801fefb": {
     "model_module": "@jupyter-widgets/base",
     "model_module_version": "1.2.0",
     "model_name": "LayoutModel",
     "state": {
      "_model_module": "@jupyter-widgets/base",
      "_model_module_version": "1.2.0",
      "_model_name": "LayoutModel",
      "_view_count": null,
      "_view_module": "@jupyter-widgets/base",
      "_view_module_version": "1.2.0",
      "_view_name": "LayoutView",
      "align_content": null,
      "align_items": null,
      "align_self": null,
      "border": null,
      "bottom": null,
      "display": null,
      "flex": null,
      "flex_flow": null,
      "grid_area": null,
      "grid_auto_columns": null,
      "grid_auto_flow": null,
      "grid_auto_rows": null,
      "grid_column": null,
      "grid_gap": null,
      "grid_row": null,
      "grid_template_areas": null,
      "grid_template_columns": null,
      "grid_template_rows": null,
      "height": null,
      "justify_content": null,
      "justify_items": null,
      "left": null,
      "margin": null,
      "max_height": null,
      "max_width": null,
      "min_height": null,
      "min_width": null,
      "object_fit": null,
      "object_position": null,
      "order": null,
      "overflow": null,
      "overflow_x": null,
      "overflow_y": null,
      "padding": null,
      "right": null,
      "top": null,
      "visibility": null,
      "width": null
     }
    },
    "d25b3c597f7a4f53a041ec2fe15c012b": {
     "model_module": "@jupyter-widgets/controls",
     "model_module_version": "1.5.0",
     "model_name": "IntSliderModel",
     "state": {
      "_dom_classes": [],
      "_model_module": "@jupyter-widgets/controls",
      "_model_module_version": "1.5.0",
      "_model_name": "IntSliderModel",
      "_view_count": null,
      "_view_module": "@jupyter-widgets/controls",
      "_view_module_version": "1.5.0",
      "_view_name": "IntSliderView",
      "continuous_update": false,
      "description": "Select Layer",
      "description_tooltip": null,
      "disabled": false,
      "layout": "IPY_MODEL_cda7358eb48948cbb88337f4f801fefb",
      "max": 154,
      "min": 0,
      "orientation": "horizontal",
      "readout": true,
      "readout_format": "d",
      "step": 1,
      "style": "IPY_MODEL_7207b64308434ba4a093a04f8a9c1235",
      "value": 78
     }
    },
    "da42d7a89b4244f8a1aa5cebc5893588": {
     "model_module": "@jupyter-widgets/output",
     "model_module_version": "1.0.0",
     "model_name": "OutputModel",
     "state": {
      "_dom_classes": [],
      "_model_module": "@jupyter-widgets/output",
      "_model_module_version": "1.0.0",
      "_model_name": "OutputModel",
      "_view_count": null,
      "_view_module": "@jupyter-widgets/output",
      "_view_module_version": "1.0.0",
      "_view_name": "OutputView",
      "layout": "IPY_MODEL_2a5da5b42cf7455189851699a98585ac",
      "msg_id": "",
      "outputs": []
     }
    },
    "e95fb326f92c402ead99c50bd229e195": {
     "model_module": "@jupyter-widgets/controls",
     "model_module_version": "1.5.0",
     "model_name": "ToggleButtonsStyleModel",
     "state": {
      "_model_module": "@jupyter-widgets/controls",
      "_model_module_version": "1.5.0",
      "_model_name": "ToggleButtonsStyleModel",
      "_view_count": null,
      "_view_module": "@jupyter-widgets/base",
      "_view_module_version": "1.2.0",
      "_view_name": "StyleView",
      "button_width": "",
      "description_width": "",
      "font_weight": ""
     }
    },
    "fa0c04d287e5420f954d6269a75a3213": {
     "model_module": "@jupyter-widgets/base",
     "model_module_version": "1.2.0",
     "model_name": "LayoutModel",
     "state": {
      "_model_module": "@jupyter-widgets/base",
      "_model_module_version": "1.2.0",
      "_model_name": "LayoutModel",
      "_view_count": null,
      "_view_module": "@jupyter-widgets/base",
      "_view_module_version": "1.2.0",
      "_view_name": "LayoutView",
      "align_content": null,
      "align_items": null,
      "align_self": null,
      "border": null,
      "bottom": null,
      "display": null,
      "flex": null,
      "flex_flow": null,
      "grid_area": null,
      "grid_auto_columns": null,
      "grid_auto_flow": null,
      "grid_auto_rows": null,
      "grid_column": null,
      "grid_gap": null,
      "grid_row": null,
      "grid_template_areas": null,
      "grid_template_columns": null,
      "grid_template_rows": null,
      "height": null,
      "justify_content": null,
      "justify_items": null,
      "left": null,
      "margin": null,
      "max_height": null,
      "max_width": null,
      "min_height": null,
      "min_width": null,
      "object_fit": null,
      "object_position": null,
      "order": null,
      "overflow": null,
      "overflow_x": null,
      "overflow_y": null,
      "padding": null,
      "right": null,
      "top": null,
      "visibility": null,
      "width": null
     }
    }
   }
  }
 },
 "nbformat": 4,
 "nbformat_minor": 4
}
